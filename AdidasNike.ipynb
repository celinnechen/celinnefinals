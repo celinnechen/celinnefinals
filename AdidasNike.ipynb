{
 "cells": [
  {
   "cell_type": "code",
   "execution_count": 39,
   "metadata": {},
   "outputs": [],
   "source": [
    "import pandas as pd"
   ]
  },
  {
   "cell_type": "code",
   "execution_count": 40,
   "metadata": {},
   "outputs": [
    {
     "data": {
      "text/html": [
       "<div>\n",
       "<style scoped>\n",
       "    .dataframe tbody tr th:only-of-type {\n",
       "        vertical-align: middle;\n",
       "    }\n",
       "\n",
       "    .dataframe tbody tr th {\n",
       "        vertical-align: top;\n",
       "    }\n",
       "\n",
       "    .dataframe thead th {\n",
       "        text-align: right;\n",
       "    }\n",
       "</style>\n",
       "<table border=\"1\" class=\"dataframe\">\n",
       "  <thead>\n",
       "    <tr style=\"text-align: right;\">\n",
       "      <th></th>\n",
       "      <th>Product Name</th>\n",
       "      <th>Product ID</th>\n",
       "      <th>Listing Price</th>\n",
       "      <th>Sale Price</th>\n",
       "      <th>Discount</th>\n",
       "      <th>Brand</th>\n",
       "      <th>Description</th>\n",
       "      <th>Rating</th>\n",
       "      <th>Reviews</th>\n",
       "      <th>Last Visited</th>\n",
       "    </tr>\n",
       "  </thead>\n",
       "  <tbody>\n",
       "    <tr>\n",
       "      <th>0</th>\n",
       "      <td>Women's adidas Originals NMD_Racer Primeknit S...</td>\n",
       "      <td>AH2430</td>\n",
       "      <td>14999</td>\n",
       "      <td>7499</td>\n",
       "      <td>50</td>\n",
       "      <td>Adidas Adidas ORIGINALS</td>\n",
       "      <td>Channeling the streamlined look of an '80s rac...</td>\n",
       "      <td>4.8</td>\n",
       "      <td>41</td>\n",
       "      <td>2020-04-13T15:06:14</td>\n",
       "    </tr>\n",
       "    <tr>\n",
       "      <th>1</th>\n",
       "      <td>Women's adidas Originals Sleek Shoes</td>\n",
       "      <td>G27341</td>\n",
       "      <td>7599</td>\n",
       "      <td>3799</td>\n",
       "      <td>50</td>\n",
       "      <td>Adidas ORIGINALS</td>\n",
       "      <td>A modern take on adidas sport heritage, tailor...</td>\n",
       "      <td>3.3</td>\n",
       "      <td>24</td>\n",
       "      <td>2020-04-13T15:06:15</td>\n",
       "    </tr>\n",
       "    <tr>\n",
       "      <th>2</th>\n",
       "      <td>Women's adidas Swim Puka Slippers</td>\n",
       "      <td>CM0081</td>\n",
       "      <td>999</td>\n",
       "      <td>599</td>\n",
       "      <td>40</td>\n",
       "      <td>Adidas CORE / NEO</td>\n",
       "      <td>These adidas Puka slippers for women's come wi...</td>\n",
       "      <td>2.6</td>\n",
       "      <td>37</td>\n",
       "      <td>2020-04-13T15:06:15</td>\n",
       "    </tr>\n",
       "    <tr>\n",
       "      <th>3</th>\n",
       "      <td>Women's adidas Sport Inspired Questar Ride Shoes</td>\n",
       "      <td>B44832</td>\n",
       "      <td>6999</td>\n",
       "      <td>3499</td>\n",
       "      <td>50</td>\n",
       "      <td>Adidas CORE / NEO</td>\n",
       "      <td>Inspired by modern tech runners, these women's...</td>\n",
       "      <td>4.1</td>\n",
       "      <td>35</td>\n",
       "      <td>2020-04-13T15:06:15</td>\n",
       "    </tr>\n",
       "    <tr>\n",
       "      <th>4</th>\n",
       "      <td>Women's adidas Originals Taekwondo Shoes</td>\n",
       "      <td>D98205</td>\n",
       "      <td>7999</td>\n",
       "      <td>3999</td>\n",
       "      <td>50</td>\n",
       "      <td>Adidas ORIGINALS</td>\n",
       "      <td>This design is inspired by vintage Taekwondo s...</td>\n",
       "      <td>3.5</td>\n",
       "      <td>72</td>\n",
       "      <td>2020-04-13T15:06:15</td>\n",
       "    </tr>\n",
       "  </tbody>\n",
       "</table>\n",
       "</div>"
      ],
      "text/plain": [
       "                                        Product Name Product ID  \\\n",
       "0  Women's adidas Originals NMD_Racer Primeknit S...     AH2430   \n",
       "1               Women's adidas Originals Sleek Shoes     G27341   \n",
       "2                  Women's adidas Swim Puka Slippers     CM0081   \n",
       "3   Women's adidas Sport Inspired Questar Ride Shoes     B44832   \n",
       "4           Women's adidas Originals Taekwondo Shoes     D98205   \n",
       "\n",
       "   Listing Price  Sale Price  Discount                    Brand  \\\n",
       "0          14999        7499        50  Adidas Adidas ORIGINALS   \n",
       "1           7599        3799        50         Adidas ORIGINALS   \n",
       "2            999         599        40        Adidas CORE / NEO   \n",
       "3           6999        3499        50        Adidas CORE / NEO   \n",
       "4           7999        3999        50         Adidas ORIGINALS   \n",
       "\n",
       "                                         Description  Rating  Reviews  \\\n",
       "0  Channeling the streamlined look of an '80s rac...     4.8       41   \n",
       "1  A modern take on adidas sport heritage, tailor...     3.3       24   \n",
       "2  These adidas Puka slippers for women's come wi...     2.6       37   \n",
       "3  Inspired by modern tech runners, these women's...     4.1       35   \n",
       "4  This design is inspired by vintage Taekwondo s...     3.5       72   \n",
       "\n",
       "          Last Visited  \n",
       "0  2020-04-13T15:06:14  \n",
       "1  2020-04-13T15:06:15  \n",
       "2  2020-04-13T15:06:15  \n",
       "3  2020-04-13T15:06:15  \n",
       "4  2020-04-13T15:06:15  "
      ]
     },
     "execution_count": 40,
     "metadata": {},
     "output_type": "execute_result"
    }
   ],
   "source": [
    "file = \"./AdidasVsNike.csv\"\n",
    "data = pd.read_csv(file)\n",
    "data.head()"
   ]
  },
  {
   "cell_type": "markdown",
   "metadata": {},
   "source": [
    "#### This dataset has 3268 rows and 10 columns."
   ]
  },
  {
   "cell_type": "code",
   "execution_count": 41,
   "metadata": {},
   "outputs": [
    {
     "data": {
      "text/plain": [
       "(3268, 10)"
      ]
     },
     "execution_count": 41,
     "metadata": {},
     "output_type": "execute_result"
    }
   ],
   "source": [
    "data.shape"
   ]
  },
  {
   "cell_type": "markdown",
   "metadata": {},
   "source": [
    "#### Checking for missing values in the dataset. (only 3 products with missing decription.)"
   ]
  },
  {
   "cell_type": "code",
   "execution_count": 42,
   "metadata": {},
   "outputs": [
    {
     "data": {
      "text/plain": [
       "Product Name     0\n",
       "Product ID       0\n",
       "Listing Price    0\n",
       "Sale Price       0\n",
       "Discount         0\n",
       "Brand            0\n",
       "Description      3\n",
       "Rating           0\n",
       "Reviews          0\n",
       "Last Visited     0\n",
       "dtype: int64"
      ]
     },
     "execution_count": 42,
     "metadata": {},
     "output_type": "execute_result"
    }
   ],
   "source": [
    "data.isnull().sum()"
   ]
  },
  {
   "cell_type": "code",
   "execution_count": 43,
   "metadata": {},
   "outputs": [],
   "source": [
    "data['Last Visited']=pd.to_datetime(data['Last Visited'])"
   ]
  },
  {
   "cell_type": "markdown",
   "metadata": {},
   "source": [
    "#### Notice some of the values are 0 for Listing Price, we replace 0 in the Listing Price with the Sale Price instead."
   ]
  },
  {
   "cell_type": "code",
   "execution_count": 44,
   "metadata": {},
   "outputs": [
    {
     "data": {
      "text/html": [
       "<div>\n",
       "<style scoped>\n",
       "    .dataframe tbody tr th:only-of-type {\n",
       "        vertical-align: middle;\n",
       "    }\n",
       "\n",
       "    .dataframe tbody tr th {\n",
       "        vertical-align: top;\n",
       "    }\n",
       "\n",
       "    .dataframe thead th {\n",
       "        text-align: right;\n",
       "    }\n",
       "</style>\n",
       "<table border=\"1\" class=\"dataframe\">\n",
       "  <thead>\n",
       "    <tr style=\"text-align: right;\">\n",
       "      <th></th>\n",
       "      <th>Product Name</th>\n",
       "      <th>Product ID</th>\n",
       "      <th>Listing Price</th>\n",
       "      <th>Sale Price</th>\n",
       "      <th>Discount</th>\n",
       "      <th>Brand</th>\n",
       "      <th>Description</th>\n",
       "      <th>Rating</th>\n",
       "      <th>Reviews</th>\n",
       "      <th>Last Visited</th>\n",
       "    </tr>\n",
       "  </thead>\n",
       "  <tbody>\n",
       "    <tr>\n",
       "      <th>0</th>\n",
       "      <td>Women's adidas Originals NMD_Racer Primeknit S...</td>\n",
       "      <td>AH2430</td>\n",
       "      <td>14999</td>\n",
       "      <td>7499</td>\n",
       "      <td>50</td>\n",
       "      <td>Adidas Adidas ORIGINALS</td>\n",
       "      <td>Channeling the streamlined look of an '80s rac...</td>\n",
       "      <td>4.8</td>\n",
       "      <td>41</td>\n",
       "      <td>2020-04-13 15:06:14</td>\n",
       "    </tr>\n",
       "    <tr>\n",
       "      <th>1</th>\n",
       "      <td>Women's adidas Originals Sleek Shoes</td>\n",
       "      <td>G27341</td>\n",
       "      <td>7599</td>\n",
       "      <td>3799</td>\n",
       "      <td>50</td>\n",
       "      <td>Adidas ORIGINALS</td>\n",
       "      <td>A modern take on adidas sport heritage, tailor...</td>\n",
       "      <td>3.3</td>\n",
       "      <td>24</td>\n",
       "      <td>2020-04-13 15:06:15</td>\n",
       "    </tr>\n",
       "    <tr>\n",
       "      <th>2</th>\n",
       "      <td>Women's adidas Swim Puka Slippers</td>\n",
       "      <td>CM0081</td>\n",
       "      <td>999</td>\n",
       "      <td>599</td>\n",
       "      <td>40</td>\n",
       "      <td>Adidas CORE / NEO</td>\n",
       "      <td>These adidas Puka slippers for women's come wi...</td>\n",
       "      <td>2.6</td>\n",
       "      <td>37</td>\n",
       "      <td>2020-04-13 15:06:15</td>\n",
       "    </tr>\n",
       "    <tr>\n",
       "      <th>3</th>\n",
       "      <td>Women's adidas Sport Inspired Questar Ride Shoes</td>\n",
       "      <td>B44832</td>\n",
       "      <td>6999</td>\n",
       "      <td>3499</td>\n",
       "      <td>50</td>\n",
       "      <td>Adidas CORE / NEO</td>\n",
       "      <td>Inspired by modern tech runners, these women's...</td>\n",
       "      <td>4.1</td>\n",
       "      <td>35</td>\n",
       "      <td>2020-04-13 15:06:15</td>\n",
       "    </tr>\n",
       "    <tr>\n",
       "      <th>4</th>\n",
       "      <td>Women's adidas Originals Taekwondo Shoes</td>\n",
       "      <td>D98205</td>\n",
       "      <td>7999</td>\n",
       "      <td>3999</td>\n",
       "      <td>50</td>\n",
       "      <td>Adidas ORIGINALS</td>\n",
       "      <td>This design is inspired by vintage Taekwondo s...</td>\n",
       "      <td>3.5</td>\n",
       "      <td>72</td>\n",
       "      <td>2020-04-13 15:06:15</td>\n",
       "    </tr>\n",
       "    <tr>\n",
       "      <th>...</th>\n",
       "      <td>...</td>\n",
       "      <td>...</td>\n",
       "      <td>...</td>\n",
       "      <td>...</td>\n",
       "      <td>...</td>\n",
       "      <td>...</td>\n",
       "      <td>...</td>\n",
       "      <td>...</td>\n",
       "      <td>...</td>\n",
       "      <td>...</td>\n",
       "    </tr>\n",
       "    <tr>\n",
       "      <th>3263</th>\n",
       "      <td>Air Jordan 8 Retro</td>\n",
       "      <td>CI1236-100</td>\n",
       "      <td>15995</td>\n",
       "      <td>12797</td>\n",
       "      <td>0</td>\n",
       "      <td>Nike</td>\n",
       "      <td>The Air Jordan 8 Retro recaptures the memorabl...</td>\n",
       "      <td>5.0</td>\n",
       "      <td>1</td>\n",
       "      <td>2020-04-13 15:41:01</td>\n",
       "    </tr>\n",
       "    <tr>\n",
       "      <th>3264</th>\n",
       "      <td>Nike Phantom Venom Club IC</td>\n",
       "      <td>AO0578-717</td>\n",
       "      <td>4995</td>\n",
       "      <td>3497</td>\n",
       "      <td>0</td>\n",
       "      <td>Nike</td>\n",
       "      <td>The Nike Phantom Venom Club IC is engineered f...</td>\n",
       "      <td>0.0</td>\n",
       "      <td>0</td>\n",
       "      <td>2020-04-13 15:41:03</td>\n",
       "    </tr>\n",
       "    <tr>\n",
       "      <th>3265</th>\n",
       "      <td>Nike Mercurial Superfly 7 Academy TF</td>\n",
       "      <td>AT7978-414</td>\n",
       "      <td>8495</td>\n",
       "      <td>5947</td>\n",
       "      <td>0</td>\n",
       "      <td>Nike</td>\n",
       "      <td>The soft upper of the Nike Mercurial Superfly ...</td>\n",
       "      <td>5.0</td>\n",
       "      <td>1</td>\n",
       "      <td>2020-04-13 15:41:07</td>\n",
       "    </tr>\n",
       "    <tr>\n",
       "      <th>3266</th>\n",
       "      <td>Nike Air Max 98</td>\n",
       "      <td>AH6799-300</td>\n",
       "      <td>16995</td>\n",
       "      <td>16995</td>\n",
       "      <td>0</td>\n",
       "      <td>Nike</td>\n",
       "      <td>The Nike Air Max 98 features the OG design lin...</td>\n",
       "      <td>4.0</td>\n",
       "      <td>4</td>\n",
       "      <td>2020-04-13 15:41:19</td>\n",
       "    </tr>\n",
       "    <tr>\n",
       "      <th>3267</th>\n",
       "      <td>Nike P-6000 SE</td>\n",
       "      <td>CJ9585-600</td>\n",
       "      <td>8995</td>\n",
       "      <td>6297</td>\n",
       "      <td>0</td>\n",
       "      <td>Nike</td>\n",
       "      <td>A mash-up of Pegasus' past, the Nike P-6000 SE...</td>\n",
       "      <td>0.0</td>\n",
       "      <td>0</td>\n",
       "      <td>2020-04-13 15:42:57</td>\n",
       "    </tr>\n",
       "  </tbody>\n",
       "</table>\n",
       "<p>3268 rows × 10 columns</p>\n",
       "</div>"
      ],
      "text/plain": [
       "                                           Product Name  Product ID  \\\n",
       "0     Women's adidas Originals NMD_Racer Primeknit S...      AH2430   \n",
       "1                  Women's adidas Originals Sleek Shoes      G27341   \n",
       "2                     Women's adidas Swim Puka Slippers      CM0081   \n",
       "3      Women's adidas Sport Inspired Questar Ride Shoes      B44832   \n",
       "4              Women's adidas Originals Taekwondo Shoes      D98205   \n",
       "...                                                 ...         ...   \n",
       "3263                                 Air Jordan 8 Retro  CI1236-100   \n",
       "3264                         Nike Phantom Venom Club IC  AO0578-717   \n",
       "3265               Nike Mercurial Superfly 7 Academy TF  AT7978-414   \n",
       "3266                                    Nike Air Max 98  AH6799-300   \n",
       "3267                                     Nike P-6000 SE  CJ9585-600   \n",
       "\n",
       "      Listing Price  Sale Price  Discount                    Brand  \\\n",
       "0             14999        7499        50  Adidas Adidas ORIGINALS   \n",
       "1              7599        3799        50         Adidas ORIGINALS   \n",
       "2               999         599        40        Adidas CORE / NEO   \n",
       "3              6999        3499        50        Adidas CORE / NEO   \n",
       "4              7999        3999        50         Adidas ORIGINALS   \n",
       "...             ...         ...       ...                      ...   \n",
       "3263          15995       12797         0                     Nike   \n",
       "3264           4995        3497         0                     Nike   \n",
       "3265           8495        5947         0                     Nike   \n",
       "3266          16995       16995         0                     Nike   \n",
       "3267           8995        6297         0                     Nike   \n",
       "\n",
       "                                            Description  Rating  Reviews  \\\n",
       "0     Channeling the streamlined look of an '80s rac...     4.8       41   \n",
       "1     A modern take on adidas sport heritage, tailor...     3.3       24   \n",
       "2     These adidas Puka slippers for women's come wi...     2.6       37   \n",
       "3     Inspired by modern tech runners, these women's...     4.1       35   \n",
       "4     This design is inspired by vintage Taekwondo s...     3.5       72   \n",
       "...                                                 ...     ...      ...   \n",
       "3263  The Air Jordan 8 Retro recaptures the memorabl...     5.0        1   \n",
       "3264  The Nike Phantom Venom Club IC is engineered f...     0.0        0   \n",
       "3265  The soft upper of the Nike Mercurial Superfly ...     5.0        1   \n",
       "3266  The Nike Air Max 98 features the OG design lin...     4.0        4   \n",
       "3267  A mash-up of Pegasus' past, the Nike P-6000 SE...     0.0        0   \n",
       "\n",
       "            Last Visited  \n",
       "0    2020-04-13 15:06:14  \n",
       "1    2020-04-13 15:06:15  \n",
       "2    2020-04-13 15:06:15  \n",
       "3    2020-04-13 15:06:15  \n",
       "4    2020-04-13 15:06:15  \n",
       "...                  ...  \n",
       "3263 2020-04-13 15:41:01  \n",
       "3264 2020-04-13 15:41:03  \n",
       "3265 2020-04-13 15:41:07  \n",
       "3266 2020-04-13 15:41:19  \n",
       "3267 2020-04-13 15:42:57  \n",
       "\n",
       "[3268 rows x 10 columns]"
      ]
     },
     "execution_count": 44,
     "metadata": {},
     "output_type": "execute_result"
    }
   ],
   "source": [
    "zero = (data[\"Listing Price\"] == 0)\n",
    "data.loc[zero, \"Listing Price\"] = data[\"Sale Price\"]\n",
    "data"
   ]
  },
  {
   "cell_type": "markdown",
   "metadata": {},
   "source": [
    "#### Fill the missing decription with the string \"No Description\"."
   ]
  },
  {
   "cell_type": "code",
   "execution_count": 45,
   "metadata": {},
   "outputs": [
    {
     "data": {
      "text/plain": [
       "Product Name     0\n",
       "Product ID       0\n",
       "Listing Price    0\n",
       "Sale Price       0\n",
       "Discount         0\n",
       "Brand            0\n",
       "Description      0\n",
       "Rating           0\n",
       "Reviews          0\n",
       "Last Visited     0\n",
       "dtype: int64"
      ]
     },
     "execution_count": 45,
     "metadata": {},
     "output_type": "execute_result"
    }
   ],
   "source": [
    "data[\"Description\"].fillna(\"No Description\", inplace = True)\n",
    "data.isnull().sum()"
   ]
  },
  {
   "cell_type": "code",
   "execution_count": 46,
   "metadata": {},
   "outputs": [
    {
     "data": {
      "text/plain": [
       "array(['Adidas Adidas ORIGINALS', 'Adidas ORIGINALS', 'Adidas CORE / NEO',\n",
       "       'Adidas SPORT PERFORMANCE', 'Nike'], dtype=object)"
      ]
     },
     "execution_count": 46,
     "metadata": {},
     "output_type": "execute_result"
    }
   ],
   "source": [
    "data.Brand.unique()"
   ]
  },
  {
   "cell_type": "markdown",
   "metadata": {},
   "source": [
    "#### Here, I want to replace all products with brand name containing \"Adidas adidas ORIGINALS\" to \"Adidas ORIGINALS\". "
   ]
  },
  {
   "cell_type": "code",
   "execution_count": 47,
   "metadata": {},
   "outputs": [
    {
     "data": {
      "text/plain": [
       "array(['Adidas ORIGINALS', 'Adidas CORE / NEO',\n",
       "       'Adidas SPORT PERFORMANCE', 'Nike'], dtype=object)"
      ]
     },
     "execution_count": 47,
     "metadata": {},
     "output_type": "execute_result"
    }
   ],
   "source": [
    "data.replace(\"Adidas Adidas ORIGINALS\", \"Adidas ORIGINALS\", inplace = True)\n",
    "data.Brand.unique()"
   ]
  },
  {
   "cell_type": "markdown",
   "metadata": {},
   "source": [
    "### Objective 1: How many products per brand? (w/ Visualization)"
   ]
  },
  {
   "cell_type": "code",
   "execution_count": 48,
   "metadata": {},
   "outputs": [],
   "source": [
    "import matplotlib.pyplot as plt\n",
    "import seaborn as sns"
   ]
  },
  {
   "cell_type": "code",
   "execution_count": 49,
   "metadata": {},
   "outputs": [],
   "source": [
    "# print(len(data[\"Brand\"])) # 3268\n",
    "total = len(data[\"Brand\"])\n",
    "nike = [\"It's Nike!\" for brand in data['Brand'] if \"nike\" in brand.lower()]\n",
    "adidas = [\"It's Adidas!\" for brand in data['Brand'] if \"adidas\" in brand.lower()]\n",
    "adidas_ori = [\"It's Adidas ori!\" for brand in data['Brand'] if \"adidas original\" in brand.lower()]\n",
    "adidas_neo = [\"It's Adidas neo!\" for brand in data['Brand'] if \"adidas core / neo\" in brand.lower()]\n",
    "adidas_sport = [\"It's Adidas sport!\" for brand in data['Brand'] if \"adidas sport performance\" in brand.lower()]\n",
    "total_nike = len(nike) # 643\n",
    "total_adidas = len(adidas) # 2625 \n",
    "total_adidas_ori = len(adidas_ori)\n",
    "total_adidas_neo = len(adidas_neo)\n",
    "total_adidas_sport = len(adidas_sport)\n"
   ]
  },
  {
   "cell_type": "code",
   "execution_count": 50,
   "metadata": {},
   "outputs": [
    {
     "data": {
      "image/png": "[encoded data removed]",
      "text/plain": [
       "<Figure size 432x288 with 1 Axes>"
      ]
     },
     "metadata": {
      "needs_background": "light"
     },
     "output_type": "display_data"
    }
   ],
   "source": [
    "plt.bar(x = [\"Adidas\", \"Nike\"], height = [total_adidas, total_nike], color = ['grey','orange'])\n",
    "plt.xlabel(\"Brand\")\n",
    "plt.ylabel(\"Number of products\")\n",
    "plt.text(-0.1, total_adidas/2, total_adidas, fontsize=12)\n",
    "plt.text(0.92, total_nike/2, total_nike, fontsize=12)\n",
    "plt.show()"
   ]
  },
  {
   "cell_type": "code",
   "execution_count": 51,
   "metadata": {},
   "outputs": [
    {
     "data": {
      "image/png": "[encoded data removed]",
      "text/plain": [
       "<Figure size 432x288 with 1 Axes>"
      ]
     },
     "metadata": {},
     "output_type": "display_data"
    }
   ],
   "source": [
    "t = [total_adidas_ori, total_adidas_neo, total_adidas_sport, total_nike]\n",
    "colors = [\"yellow\", \"green\", \"blue\", \"orange\"]\n",
    "plt.title('Products Offered from Each Brand')\n",
    "plt.pie(labels = [\"Adidas ORIGINALS\", \"Adidas CORE / NEO\", \"Adidas SPORT PERFORMANCE\", \"Nike\"], \\\n",
    "    x = t, autopct=\"%.1f%%\", explode=[0.02]*4, colors=colors)\n",
    "plt.show()"
   ]
  },
  {
   "cell_type": "markdown",
   "metadata": {},
   "source": [
    "### Objective 2: Rate the products"
   ]
  },
  {
   "cell_type": "code",
   "execution_count": 52,
   "metadata": {},
   "outputs": [
    {
     "data": {
      "text/html": [
       "<div>\n",
       "<style scoped>\n",
       "    .dataframe tbody tr th:only-of-type {\n",
       "        vertical-align: middle;\n",
       "    }\n",
       "\n",
       "    .dataframe tbody tr th {\n",
       "        vertical-align: top;\n",
       "    }\n",
       "\n",
       "    .dataframe thead th {\n",
       "        text-align: right;\n",
       "    }\n",
       "</style>\n",
       "<table border=\"1\" class=\"dataframe\">\n",
       "  <thead>\n",
       "    <tr style=\"text-align: right;\">\n",
       "      <th></th>\n",
       "      <th>Product Name</th>\n",
       "      <th>Brand</th>\n",
       "      <th>Reviews</th>\n",
       "    </tr>\n",
       "  </thead>\n",
       "  <tbody>\n",
       "    <tr>\n",
       "      <th>267</th>\n",
       "      <td>Men's adidas Toe Side II Slippers</td>\n",
       "      <td>Adidas CORE / NEO</td>\n",
       "      <td>99</td>\n",
       "    </tr>\n",
       "    <tr>\n",
       "      <th>1800</th>\n",
       "      <td>Men's adidas Running Asweego Shoes</td>\n",
       "      <td>Adidas CORE / NEO</td>\n",
       "      <td>99</td>\n",
       "    </tr>\n",
       "    <tr>\n",
       "      <th>1849</th>\n",
       "      <td>MEN'S ADIDAS RUNNING NAYO 2.0 SHOES</td>\n",
       "      <td>Adidas CORE / NEO</td>\n",
       "      <td>97</td>\n",
       "    </tr>\n",
       "    <tr>\n",
       "      <th>1039</th>\n",
       "      <td>Men's adidas Sport Inspired Court Adapt Shoes</td>\n",
       "      <td>Adidas CORE / NEO</td>\n",
       "      <td>96</td>\n",
       "    </tr>\n",
       "    <tr>\n",
       "      <th>2505</th>\n",
       "      <td>Men's adidas Originals Liberty Cup Shoes</td>\n",
       "      <td>Adidas ORIGINALS</td>\n",
       "      <td>94</td>\n",
       "    </tr>\n",
       "    <tr>\n",
       "      <th>...</th>\n",
       "      <td>...</td>\n",
       "      <td>...</td>\n",
       "      <td>...</td>\n",
       "    </tr>\n",
       "    <tr>\n",
       "      <th>2960</th>\n",
       "      <td>Nike Air Streak Lite</td>\n",
       "      <td>Nike</td>\n",
       "      <td>1</td>\n",
       "    </tr>\n",
       "    <tr>\n",
       "      <th>2954</th>\n",
       "      <td>Nike Zoom KD12</td>\n",
       "      <td>Nike</td>\n",
       "      <td>1</td>\n",
       "    </tr>\n",
       "    <tr>\n",
       "      <th>2952</th>\n",
       "      <td>Kyrie 6 EP 'Chinese New Year'</td>\n",
       "      <td>Nike</td>\n",
       "      <td>1</td>\n",
       "    </tr>\n",
       "    <tr>\n",
       "      <th>2727</th>\n",
       "      <td>Nike Air Max Impact</td>\n",
       "      <td>Nike</td>\n",
       "      <td>1</td>\n",
       "    </tr>\n",
       "    <tr>\n",
       "      <th>3265</th>\n",
       "      <td>Nike Mercurial Superfly 7 Academy TF</td>\n",
       "      <td>Nike</td>\n",
       "      <td>1</td>\n",
       "    </tr>\n",
       "  </tbody>\n",
       "</table>\n",
       "<p>207 rows × 3 columns</p>\n",
       "</div>"
      ],
      "text/plain": [
       "                                       Product Name              Brand  \\\n",
       "267               Men's adidas Toe Side II Slippers  Adidas CORE / NEO   \n",
       "1800             Men's adidas Running Asweego Shoes  Adidas CORE / NEO   \n",
       "1849            MEN'S ADIDAS RUNNING NAYO 2.0 SHOES  Adidas CORE / NEO   \n",
       "1039  Men's adidas Sport Inspired Court Adapt Shoes  Adidas CORE / NEO   \n",
       "2505       Men's adidas Originals Liberty Cup Shoes   Adidas ORIGINALS   \n",
       "...                                             ...                ...   \n",
       "2960                           Nike Air Streak Lite               Nike   \n",
       "2954                                 Nike Zoom KD12               Nike   \n",
       "2952                  Kyrie 6 EP 'Chinese New Year'               Nike   \n",
       "2727                            Nike Air Max Impact               Nike   \n",
       "3265           Nike Mercurial Superfly 7 Academy TF               Nike   \n",
       "\n",
       "      Reviews  \n",
       "267        99  \n",
       "1800       99  \n",
       "1849       97  \n",
       "1039       96  \n",
       "2505       94  \n",
       "...       ...  \n",
       "2960        1  \n",
       "2954        1  \n",
       "2952        1  \n",
       "2727        1  \n",
       "3265        1  \n",
       "\n",
       "[207 rows x 3 columns]"
      ]
     },
     "execution_count": 52,
     "metadata": {},
     "output_type": "execute_result"
    }
   ],
   "source": [
    "max_rating = data[\"Rating\"].max()\n",
    "max_rating_product = data[data[\"Rating\"] == max_rating]\n",
    "ratings = max_rating_product[[\"Product Name\", \"Brand\", \"Reviews\"]].sort_values(by=[\"Reviews\"], ascending=False)\n",
    "\n",
    "ratings"
   ]
  },
  {
   "cell_type": "code",
   "execution_count": 53,
   "metadata": {},
   "outputs": [
    {
     "name": "stdout",
     "output_type": "stream",
     "text": [
      "The total number of Nike products among the Top-rated products: 120\n",
      "The total number of Adidas products among the Top-rated products: 87\n"
     ]
    },
    {
     "data": {
      "image/png": "[encoded data removed]",
      "text/plain": [
       "<Figure size 432x288 with 1 Axes>"
      ]
     },
     "metadata": {},
     "output_type": "display_data"
    }
   ],
   "source": [
    "total_top = ratings[\"Product Name\"].count()\n",
    "nike_top = ratings[ratings[\"Brand\"] == \"Nike\"]\n",
    "nike_top = nike_top[\"Product Name\"].count()\n",
    "adidas_top = total_top - nike_top\n",
    "print(\"The total number of Nike products among the Top-rated products: %d\" % nike_top)\n",
    "print(\"The total number of Adidas products among the Top-rated products: %d\" % adidas_top)\n",
    "\n",
    "t = [nike_top, adidas_top]\n",
    "colors = [\"yellow\", \"green\"]\n",
    "plt.title('Products Offered from Each Brand among the Top-Rated')\n",
    "plt.pie(labels = [\"Nike\", \"Adidas\"], \\\n",
    "    x = t, autopct=\"%.1f%%\", explode=[0.01]*2, colors=colors)\n",
    "plt.show()"
   ]
  },
  {
   "cell_type": "code",
   "execution_count": 54,
   "metadata": {},
   "outputs": [
    {
     "name": "stdout",
     "output_type": "stream",
     "text": [
      "The average number of reviews for Nike is: 1.74\n",
      "The average number of reviews for Adidas is: 45.56\n"
     ]
    },
    {
     "data": {
      "image/png": "[encoded data removed]",
      "text/plain": [
       "<Figure size 432x288 with 1 Axes>"
      ]
     },
     "metadata": {
      "needs_background": "light"
     },
     "output_type": "display_data"
    }
   ],
   "source": [
    "nike_rev = []\n",
    "for product in ratings.values:\n",
    "    if \"Nike\" in product[1]:\n",
    "        nike_rev.append(product[2])\n",
    "nike_avg_rev = sum(nike_rev) / len(nike_rev)\n",
    "print(\"The average number of reviews for Nike is: %.2f\" % nike_avg_rev)\n",
    "\n",
    "adidas_rev = []\n",
    "for product in ratings.values:\n",
    "    if \"Adidas\" in product[1]:\n",
    "        adidas_rev.append(product[2])\n",
    "adidas_avg_rev = sum(adidas_rev) / len(adidas_rev)\n",
    "print(\"The average number of reviews for Adidas is: %.2f\" % adidas_avg_rev)\n",
    "\n",
    "plt.bar(x = [\"Adidas\", \"Nike\"], height = [adidas_avg_rev, nike_avg_rev], color = ['grey','orange'])\n",
    "plt.xlabel(\"Brand\")\n",
    "plt.ylabel(\"Average number of reviews\")\n",
    "plt.text(-0.1, adidas_avg_rev/2, \"{:.2f}\".format(adidas_avg_rev), fontsize=12)\n",
    "plt.text(0.92, nike_avg_rev/2, \"{:.2f}\".format(nike_avg_rev), fontsize=12)\n",
    "plt.show()"
   ]
  }
 ],
 "metadata": {
  "interpreter": {
   "hash": "3f92717a523ab0f903a42cbecc197c8f0cfe5b3980437a9b98a341a5554a7de7"
  },
  "kernelspec": {
   "display_name": "Python 3.9.7 ('base')",
   "language": "python",
   "name": "python3"
  },
  "language_info": {
   "codemirror_mode": {
    "name": "ipython",
    "version": 3
   },
   "file_extension": ".py",
   "mimetype": "text/x-python",
   "name": "python",
   "nbconvert_exporter": "python",
   "pygments_lexer": "ipython3",
   "version": "3.9.7"
  },
  "orig_nbformat": 4
 },
 "nbformat": 4,
 "nbformat_minor": 2
}
